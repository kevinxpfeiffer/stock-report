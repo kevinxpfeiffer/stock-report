{
 "cells": [
  {
   "cell_type": "markdown",
   "metadata": {
    "jupyter": {
     "outputs_hidden": false
    },
    "pycharm": {
     "name": "#%%\n"
    }
   },
   "source": [
    "# Notes"
   ]
  },
  {
   "cell_type": "code",
   "execution_count": null,
   "metadata": {},
   "outputs": [],
   "source": [
    "# Eingabe aus Console erhalten\n",
    "name = input('Wie heißt du?')\n",
    "\n",
    "# IF Funktion\n",
    "if name == 'Kevin':\n",
    "    print('Hallo Kevin')\n",
    "elif name == 'Michelle':\n",
    "    print('Hallo Michelle')\n",
    "else:\n",
    "    print('Du bist hier falsch')\n",
    "\n",
    "# Liste\n",
    "liste = [1, 2, 3, 4]\n",
    "\n",
    "# Dictionaries\n",
    "dictonary = {'name': 'Kevin',\n",
    "             'alter': 20,\n",
    "             'verifiziert': True}\n",
    "\n",
    "dictonary['alter']\n",
    "\n",
    "# Exceptions\n",
    "try:\n",
    "    age = int(input('Age: '))\n",
    "    income = 2000\n",
    "    risk = income // age\n",
    "    print(risk)\n",
    "except ValueError:\n",
    "    print('Not a valid number')\n",
    "except ZeroDivisionError:\n",
    "    print('age cannot be 0')\n",
    "\n",
    "help(print())\n",
    "\n",
    "# making numerical list\n",
    "squares = []\n",
    "for x in range(1, 11):\n",
    "    squares.append(x**2)\n",
    "\n",
    "# looping through all-value pairs\n",
    "fav_numbers = {'eric': 14, 'jan': 50}\n",
    "for name, number in fav_numbers.items():\n",
    "    print(name + ' ' + str(number))\n",
    "\n",
    "# range function\n",
    "for number in range(50,100):\n",
    "    print(number)\n",
    "\n",
    "'''Returns'''\n",
    "import pandas as pd\n",
    "prices = pd.DataFrame({\"BLUE\": [8.70, 8.91, 8.71, 8.43, 8.73],\n",
    "                       \"ORANGE\": [10.66, 11.08, 10.71, 11.59, 12.11]})\n",
    "\n",
    "returns = prices.pct_change()\n",
    "returns.mean()\n",
    "returns.std()\n",
    "\n",
    "\n"
   ]
  },
  {
   "cell_type": "code",
   "execution_count": null,
   "metadata": {},
   "outputs": [],
   "source": []
  }
 ],
 "metadata": {
  "kernelspec": {
   "display_name": "Python 3",
   "language": "python",
   "name": "python3"
  },
  "language_info": {
   "codemirror_mode": {
    "name": "ipython",
    "version": 3
   },
   "file_extension": ".py",
   "mimetype": "text/x-python",
   "name": "python",
   "nbconvert_exporter": "python",
   "pygments_lexer": "ipython3",
   "version": "3.8.8"
  }
 },
 "nbformat": 4,
 "nbformat_minor": 4
}
